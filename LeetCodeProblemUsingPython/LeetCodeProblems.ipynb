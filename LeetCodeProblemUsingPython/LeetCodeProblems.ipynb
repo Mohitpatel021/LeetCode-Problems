{
 "cells": [
  {
   "cell_type": "code",
   "execution_count": null,
   "id": "7e014c94",
   "metadata": {
    "vscode": {
     "languageId": "plaintext"
    }
   },
   "outputs": [],
   "source": [
    "\n",
    "#  Question 1672: Richest Customer Wealth\n",
    "#  Link : https://leetcode.com/problems/richest-customer-wealth/description/\n",
    "\n",
    "\n",
    "class Solution:\n",
    "    def maximumWealth(self, accounts: List[List[int]]) -> int:\n",
    "        max_w=0\n",
    "        for i in range(len(accounts)):\n",
    "            sum=0\n",
    "            for j in range(len(accounts[0])):\n",
    "                sum+=accounts[i][j]\n",
    "                print(sum)\n",
    "            max_w=max(max_w,sum)\n",
    "        return max_w"
   ]
  },
  {
   "cell_type": "code",
   "execution_count": null,
   "id": "4cabf3e2",
   "metadata": {},
   "outputs": [],
   "source": [
    "\n",
    "#  Question 2545: Sort the Students by Their Kth Score\n",
    "#  Link : https://leetcode.com/problems/sort-the-students-by-their-kth-score/description/\n",
    "\n",
    "class Solution:\n",
    "    def sortTheStudents(self, score: List[List[int]], k: int) -> List[List[int]]:\n",
    "        for i in range(len(score)-1):\n",
    "            for j in range(i+1,len(score)):\n",
    "                if score[i][k] < score[j][k]:\n",
    "                    score[i], score[j] = score[j], score[i]\n",
    "        return score\n"
   ]
  },
  {
   "cell_type": "code",
   "execution_count": null,
   "id": "d0a144fc",
   "metadata": {},
   "outputs": [],
   "source": [
    "#  Question 74:  Search a 2D Matrix\n",
    "#  Link : https://leetcode.com/problems/search-a-2d-matrix/description/\n",
    "\n",
    "class Solution:\n",
    "    def searchMatrix(self, matrix: List[List[int]], target: int) -> bool:\n",
    "        rows = len(matrix)\n",
    "        cols = len(matrix[0]) \n",
    "        top, bottom = 0, rows - 1\n",
    "        while top <= bottom:\n",
    "            mid_row = (top + bottom) // 2\n",
    "            if target> matrix[mid_row][-1]:\n",
    "                top = mid_row + 1\n",
    "            elif target < matrix[mid_row][0]:\n",
    "                bottom = mid_row - 1\n",
    "            else:\n",
    "                break\n",
    "    \n",
    "        l, r = 0, cols - 1\n",
    "        while l <= r:\n",
    "            mid = (l + r) // 2\n",
    "            if target == matrix[mid_row][mid]:\n",
    "                return True\n",
    "            elif target < matrix[mid_row][mid]:\n",
    "                r = mid - 1\n",
    "            else:\n",
    "                l = mid + 1\n",
    "        \n",
    "        return False\n"
   ]
  }
 ],
 "metadata": {
  "language_info": {
   "name": "python"
  }
 },
 "nbformat": 4,
 "nbformat_minor": 5
}
