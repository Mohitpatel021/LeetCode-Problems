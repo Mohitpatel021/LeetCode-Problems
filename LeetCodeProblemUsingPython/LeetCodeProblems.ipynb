{
 "cells": [
  {
   "cell_type": "code",
   "execution_count": null,
   "id": "7e014c94",
   "metadata": {
    "vscode": {
     "languageId": "plaintext"
    }
   },
   "outputs": [],
   "source": [
    "\n",
    "#  Question 1672: Richest Customer Wealth\n",
    "#  Link : https://leetcode.com/problems/richest-customer-wealth/description/\n",
    "\n",
    "\n",
    "class Solution:\n",
    "    def maximumWealth(self, accounts: List[List[int]]) -> int:\n",
    "        max_w=0\n",
    "        for i in range(len(accounts)):\n",
    "            sum=0\n",
    "            for j in range(len(accounts[0])):\n",
    "                sum+=accounts[i][j]\n",
    "                print(sum)\n",
    "            max_w=max(max_w,sum)\n",
    "        return max_w"
   ]
  }
 ],
 "metadata": {
  "language_info": {
   "name": "python"
  }
 },
 "nbformat": 4,
 "nbformat_minor": 5
}
