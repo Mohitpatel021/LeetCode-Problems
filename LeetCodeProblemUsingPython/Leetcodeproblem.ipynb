{
 "cells": [
  {
   "cell_type": "code",
   "execution_count": null,
   "id": "66b7a573",
   "metadata": {
    "vscode": {
     "languageId": "plaintext"
    }
   },
   "outputs": [],
   "source": [
    "#Question 1 : Two Sum\n",
    "#Link : https://leetcode.com/problems/two-sum/description/\n",
    "\n",
    "class Solution:\n",
    "    def twoSum(self, nums: List[int], target: int) -> List[int]:\n",
    "        res={}\n",
    "        i=0\n",
    "        while i<len(nums):\n",
    "            diff=target-nums[i]\n",
    "            if diff in res:\n",
    "                return [res[diff],i]\n",
    "            else:\n",
    "                res[nums[i]]=i\n",
    "                i+=1"
   ]
  },
  {
   "cell_type": "code",
   "execution_count": null,
   "id": "39b5a8ae",
   "metadata": {},
   "outputs": [],
   "source": []
  }
 ],
 "metadata": {
  "language_info": {
   "name": "python"
  }
 },
 "nbformat": 4,
 "nbformat_minor": 5
}
