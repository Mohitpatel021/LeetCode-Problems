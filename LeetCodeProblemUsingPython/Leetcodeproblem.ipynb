{
 "cells": [
  {
   "cell_type": "code",
   "execution_count": null,
   "id": "66b7a573",
   "metadata": {},
   "outputs": [],
   "source": [
    "#Question 1 : Two Sum\n",
    "#Link : https://leetcode.com/problems/two-sum/description/\n",
    "\n",
    "class Solution:\n",
    "    def twoSum(self, nums: List[int], target: int) -> List[int]:\n",
    "        res={}\n",
    "        i=0\n",
    "        while i<len(nums):\n",
    "            diff=target-nums[i]\n",
    "            if diff in res:\n",
    "                return [res[diff],i]\n",
    "            else:\n",
    "                res[nums[i]]=i\n",
    "                i+=1"
   ]
  },
  {
   "cell_type": "code",
   "execution_count": null,
   "id": "39b5a8ae",
   "metadata": {},
   "outputs": [],
   "source": [
    "#Question 11 : Container With Most Water\n",
    "#Link : https://leetcode.com/problems/container-with-most-water/description/\n",
    "\n",
    "class Solution:\n",
    "    def maxArea(self, height: List[int]) -> int:\n",
    "        left=0\n",
    "        right=len(height)-1\n",
    "        max_area=0\n",
    "        while left<right:\n",
    "            area=min(height[left],height[right])*(right-left)\n",
    "            max_area=max(max_area,area)\n",
    "            if height[left]> height[right]:\n",
    "                right-=1\n",
    "            elif height[left]<height[right]:\n",
    "                left+=1\n",
    "            else:\n",
    "                right-=1\n",
    "                left+=1\n",
    "        return max_area"
   ]
  },
  {
   "cell_type": "code",
   "execution_count": null,
   "id": "06a2727d",
   "metadata": {},
   "outputs": [],
   "source": [
    "#Question 167 :  Two Sum II - Input Array Is Sorted\n",
    "#Link : https://leetcode.com/problems/two-sum-ii-input-array-is-sorted/\n",
    "\n",
    "class Solution:\n",
    "    def twoSum(self, numbers: List[int], target: int) -> List[int]:\n",
    "        start=0\n",
    "        end=len(numbers)-1\n",
    "        while start<end :\n",
    "            sum=numbers[start]+numbers[end]\n",
    "            if sum==target:\n",
    "                return [start+1,end+1]\n",
    "            elif sum<target:\n",
    "                start+=1\n",
    "            else :\n",
    "                end-=1\n",
    "        \n"
   ]
  }
 ],
 "metadata": {
  "kernelspec": {
   "display_name": "Python 3",
   "language": "python",
   "name": "python3"
  },
  "language_info": {
   "codemirror_mode": {
    "name": "ipython",
    "version": 3
   },
   "file_extension": ".py",
   "mimetype": "text/x-python",
   "name": "python",
   "nbconvert_exporter": "python",
   "pygments_lexer": "ipython3",
   "version": "3.13.2"
  }
 },
 "nbformat": 4,
 "nbformat_minor": 5
}
