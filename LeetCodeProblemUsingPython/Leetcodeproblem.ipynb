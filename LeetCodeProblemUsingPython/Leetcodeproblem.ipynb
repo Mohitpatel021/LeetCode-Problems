{
 "cells": [
  {
   "cell_type": "code",
   "execution_count": null,
   "id": "66b7a573",
   "metadata": {
    "vscode": {
     "languageId": "plaintext"
    }
   },
   "outputs": [],
   "source": [
    "#Question 1 : Two Sum\n",
    "#Link : https://leetcode.com/problems/two-sum/description/\n",
    "\n",
    "class Solution:\n",
    "    def twoSum(self, nums: List[int], target: int) -> List[int]:\n",
    "        res={}\n",
    "        i=0\n",
    "        while i<len(nums):\n",
    "            diff=target-nums[i]\n",
    "            if diff in res:\n",
    "                return [res[diff],i]\n",
    "            else:\n",
    "                res[nums[i]]=i\n",
    "                i+=1"
   ]
  },
  {
   "cell_type": "code",
   "execution_count": null,
   "id": "39b5a8ae",
   "metadata": {},
   "outputs": [],
   "source": [
    "#Question 11 : Container With Most Water\n",
    "#Link : https://leetcode.com/problems/container-with-most-water/description/\n",
    "\n",
    "class Solution:\n",
    "    def maxArea(self, height: List[int]) -> int:\n",
    "        left=0\n",
    "        right=len(height)-1\n",
    "        max_area=0\n",
    "        while left<right:\n",
    "            area=min(height[left],height[right])*(right-left)\n",
    "            max_area=max(max_area,area)\n",
    "            if height[left]> height[right]:\n",
    "                right-=1\n",
    "            elif height[left]<height[right]:\n",
    "                left+=1\n",
    "            else:\n",
    "                right-=1\n",
    "                left+=1\n",
    "        return max_area"
   ]
  }
 ],
 "metadata": {
  "language_info": {
   "name": "python"
  }
 },
 "nbformat": 4,
 "nbformat_minor": 5
}
