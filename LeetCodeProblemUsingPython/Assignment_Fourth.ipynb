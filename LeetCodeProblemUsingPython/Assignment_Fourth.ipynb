{
 "cells": [
  {
   "cell_type": "code",
   "execution_count": null,
   "id": "57206bf0",
   "metadata": {},
   "outputs": [],
   "source": [
    "# Question :901  Online Stock Span\n",
    "\n",
    "class StockSpanner:\n",
    "\n",
    "    def __init__(self):\n",
    "        self.span_stack = []\n",
    "\n",
    "    def next(self, price):\n",
    "        res = 1\n",
    "        while self.span_stack and self.span_stack[-1][0] <= price:\n",
    "            res += self.span_stack.pop()[1]\n",
    "        self.span_stack.append([price, res])\n",
    "        return res\n",
    "        \n",
    "\n",
    "\n",
    "# Your StockSpanner object will be instantiated and called as such:\n",
    "# obj = StockSpanner()\n",
    "# param_1 = obj.next(price)"
   ]
  },
  {
   "cell_type": "code",
   "execution_count": null,
   "id": "7aae2e01",
   "metadata": {},
   "outputs": [],
   "source": [
    "# Question :682 Baseball Game\n",
    "\n",
    "class Solution:\n",
    "    def calPoints(self, operations: list[str]) -> int:\n",
    "        record = []\n",
    "        for ope in operations:\n",
    "            if ope == '+':\n",
    "                record.append(record[-1]+record[-2])\n",
    "            elif ope == 'D':\n",
    "                record.append(2*record[-1])\n",
    "            elif ope == 'C':\n",
    "                record.pop(-1)\n",
    "            else:\n",
    "                record.append(int(ope))\n",
    "        return sum(record)"
   ]
  },
  {
   "cell_type": "code",
   "execution_count": null,
   "id": "8e1f6488",
   "metadata": {},
   "outputs": [],
   "source": [
    "\n",
    "# Question :394 Decode String\n",
    "\n",
    "class Solution:\n",
    "    def decodeString(self, s: str) -> str:\n",
    "        cnt = []\n",
    "        stack = []\n",
    "        currInt, currStr = 0, ''\n",
    "        for char in s:\n",
    "            if char.isdigit():\n",
    "                currInt = currInt * 10 + int(char)\n",
    "            elif char == '[':\n",
    "                cnt.append(currInt)\n",
    "                stack.append(currStr)\n",
    "                currInt = 0\n",
    "                currStr = ''\n",
    "            elif char == ']':\n",
    "                repeat = cnt.pop()\n",
    "                prev = stack.pop()\n",
    "                currStr = prev + currStr * repeat\n",
    "            else:\n",
    "                currStr += char\n",
    "        return currStr"
   ]
  },
  {
   "cell_type": "code",
   "execution_count": null,
   "id": "5cabb96e",
   "metadata": {},
   "outputs": [],
   "source": [
    "\n",
    "# Question :853 Car Fleet\n",
    "\n",
    "class Solution:\n",
    "    def carFleet(self, target: int, position: List[int], speed: List[int]) -> int:\n",
    "        cars=sorted(enumerate(position), key=lambda x: x[1],reverse=True)\n",
    "        stack=[]\n",
    "        for i in range(len(cars)):\n",
    "            time = (target - cars[i][1]) / speed[cars[i][0]]\n",
    "            if not stack:\n",
    "                stack.append(time)\n",
    "            if time>stack[-1]:\n",
    "                stack.append(time)\n",
    "        return len(stack)\n"
   ]
  }
 ],
 "metadata": {
  "kernelspec": {
   "display_name": "Python 3",
   "language": "python",
   "name": "python3"
  },
  "language_info": {
   "codemirror_mode": {
    "name": "ipython",
    "version": 3
   },
   "file_extension": ".py",
   "mimetype": "text/x-python",
   "name": "python",
   "nbconvert_exporter": "python",
   "pygments_lexer": "ipython3",
   "version": "3.13.2"
  }
 },
 "nbformat": 4,
 "nbformat_minor": 5
}
