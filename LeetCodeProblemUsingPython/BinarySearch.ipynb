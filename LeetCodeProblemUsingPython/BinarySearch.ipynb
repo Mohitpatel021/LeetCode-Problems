{
 "cells": [
  {
   "cell_type": "code",
   "execution_count": null,
   "id": "e4d995f3",
   "metadata": {},
   "outputs": [
    {
     "name": "stdout",
     "output_type": "stream",
     "text": [
      "Found 8 at index 7\n",
      "CPU times: total: 62.5 ms\n",
      "Wall time: 68.7 ms\n"
     ]
    }
   ],
   "source": [
    "%%time\n",
    "a=[i for i in range(1, 1000000)]\n",
    "n=int(input(\"Enter a number to search: \"))\n",
    "l=0\n",
    "r=len(a)-1\n",
    "while l<=r:\n",
    "    m=(l+r)//2\n",
    "    if a[m]==n:\n",
    "        print(f\"Found {n} at index {m}\")\n",
    "        break\n",
    "    elif a[m]>n:   \n",
    "        r=m-1\n",
    "    else:\n",
    "        l=m+1"
   ]
  },
  {
   "cell_type": "code",
   "execution_count": 12,
   "id": "aaab0476",
   "metadata": {},
   "outputs": [
    {
     "name": "stdout",
     "output_type": "stream",
     "text": [
      "5\n"
     ]
    }
   ],
   "source": [
    "def fib(n:int) -> int:\n",
    "    if n<=1:\n",
    "        return n\n",
    "    else:\n",
    "        return fib(n-2)+ fib(n-1)\n",
    "\n",
    "\n",
    "ans=fib(5)\n",
    "print(ans)"
   ]
  }
 ],
 "metadata": {
  "kernelspec": {
   "display_name": "Python 3",
   "language": "python",
   "name": "python3"
  },
  "language_info": {
   "codemirror_mode": {
    "name": "ipython",
    "version": 3
   },
   "file_extension": ".py",
   "mimetype": "text/x-python",
   "name": "python",
   "nbconvert_exporter": "python",
   "pygments_lexer": "ipython3",
   "version": "3.13.5"
  }
 },
 "nbformat": 4,
 "nbformat_minor": 5
}
