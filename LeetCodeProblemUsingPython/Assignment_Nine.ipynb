{
 "cells": [
  {
   "cell_type": "code",
   "execution_count": null,
   "metadata": {
    "vscode": {
     "languageId": "plaintext"
    }
   },
   "outputs": [],
   "source": [
    "\n",
    "# Question : 43. Multiply Strings\n",
    "#Link: https://leetcode.com/problems/multiply-strings/description/\n",
    "\n",
    "\n",
    "\n",
    "class Solution:\n",
    "    def multiply(self, num1: str, num2: str) -> str:\n",
    "        n, m = len(num1), len(num2)\n",
    "        result = [0] * (n + m)\n",
    "\n",
    "        for i in range(n - 1, -1, -1):\n",
    "            for j in range(m - 1, -1, -1):\n",
    "                mul = (ord(num1[i]) - ord('0')) * (ord(num2[j]) - ord('0'))\n",
    "                sum_ = mul + result[i + j + 1]\n",
    "                result[i + j + 1] = sum_ % 10\n",
    "                result[i + j] += sum_ // 10\n",
    "\n",
    "        product = ''.join(map(str, result)).lstrip('0')\n",
    "        return product if product else \"0\""
   ]
  },
  {
   "cell_type": "code",
   "execution_count": null,
   "id": "6b38c1ae",
   "metadata": {},
   "outputs": [],
   "source": [
    "\n",
    "# Question :75. Sort Colors\n",
    "#Link: https://leetcode.com/problems/sort-colors/description/\n",
    "\n",
    "\n",
    "class Solution:\n",
    "    def sortColors(self, nums: List[int]) -> None:\n",
    "       start=0\n",
    "       end=len(nums)-1\n",
    "       mid=0\n",
    "       while mid<=end:\n",
    "        if nums[mid]==0:\n",
    "            nums[mid],nums[start]=nums[start],nums[mid]\n",
    "            mid+=1\n",
    "            start+=1\n",
    "        elif nums[mid]==1:\n",
    "            mid+=1\n",
    "        elif nums[mid]==2:\n",
    "            nums[mid],nums[end]=nums[end],nums[mid]\n",
    "            end-=1\n",
    "        "
   ]
  }
 ],
 "metadata": {
  "language_info": {
   "name": "python"
  }
 },
 "nbformat": 4,
 "nbformat_minor": 5
}
