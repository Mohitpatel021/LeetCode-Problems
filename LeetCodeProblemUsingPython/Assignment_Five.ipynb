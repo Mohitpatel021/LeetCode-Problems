{
 "cells": [
  {
   "cell_type": "code",
   "execution_count": null,
   "id": "b1d72511",
   "metadata": {
    "vscode": {
     "languageId": "plaintext"
    }
   },
   "outputs": [],
   "source": [
    "\n",
    "# Question :2073 Time Needed to Buy Tickets\n",
    "\n",
    "class Solution:\n",
    "    def timeRequiredToBuy(self, tickets: List[int], k: int) -> int:\n",
    "        queue = deque()\n",
    "        ans = 0\n",
    "        for i, v in enumerate(tickets):\n",
    "            queue.append([i, v])\n",
    "\n",
    "        while queue:\n",
    "            i, v = queue.popleft()\n",
    "            v -= 1\n",
    "            ans += 1\n",
    "            if i == k and v == 0:\n",
    "                return ans\n",
    "            elif v==0:\n",
    "                continue\n",
    "            else:\n",
    "                queue.append([i, v])\n"
   ]
  },
  {
   "cell_type": "code",
   "execution_count": null,
   "id": "5333db86",
   "metadata": {},
   "outputs": [],
   "source": [
    "\n",
    "# Question :1700. Number of Students Unable to Eat Lunch\n",
    "class Solution:\n",
    "    def countStudents(self, students: List[int], sandwiches: List[int]) -> int:\n",
    "        q1=deque(students)\n",
    "        q2=deque(sandwiches)\n",
    "       \n",
    "        while q1:\n",
    "            element=q1.popleft()\n",
    "            if element==q2[0]:\n",
    "                q2.popleft()\n",
    "            else :\n",
    "                q1.append(element)\n",
    "                if q2[0] not in q1:\n",
    "                    return len(q1)\n",
    "        return len(q1)\n",
    "\n",
    "            "
   ]
  },
  {
   "cell_type": "code",
   "execution_count": null,
   "id": "11d75023",
   "metadata": {},
   "outputs": [],
   "source": [
    "\n",
    "# Question :341. Flatten Nested List Iterator\n",
    "\n",
    "class NestedIterator:\n",
    "    def __init__(self, nestedList: [NestedInteger]):\n",
    "        self.queue = deque(nestedList)\n",
    "    \n",
    "    def next(self) -> int:\n",
    "          return self.queue.popleft().getInteger()\n",
    "    \n",
    "    def hasNext(self) -> bool:\n",
    "        while self.queue:\n",
    "            front = self.queue[0]\n",
    "            if front.isInteger():\n",
    "                return True\n",
    "            else:\n",
    "                nested_list = self.queue.popleft()\n",
    "                for item in reversed(nested_list.getList()):\n",
    "                    self.queue.appendleft(item)\n",
    "        return False\n"
   ]
  },
  {
   "cell_type": "code",
   "execution_count": null,
   "id": "b5b4487b",
   "metadata": {},
   "outputs": [],
   "source": [
    "\n",
    "\n",
    "# Question :933. Number of Recent Calls\n",
    "class RecentCounter:\n",
    "\n",
    "    def __init__(self):\n",
    "        self.requests = deque()\n",
    "\n",
    "    def ping(self, t: int) -> int:\n",
    "        self.requests.append(t)\n",
    "        while self.requests and self.requests[0] < t - 3000:\n",
    "            self.requests.popleft()\n",
    "        return len(self.requests)"
   ]
  }
 ],
 "metadata": {
  "language_info": {
   "name": "python"
  }
 },
 "nbformat": 4,
 "nbformat_minor": 5
}
