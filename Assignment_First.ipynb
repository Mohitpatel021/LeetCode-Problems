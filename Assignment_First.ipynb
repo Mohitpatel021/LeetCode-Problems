{
 "cells": [
  {
   "cell_type": "code",
   "execution_count": null,
   "id": "0ca813c6",
   "metadata": {},
   "outputs": [],
   "source": [
    "#Question : 1\n",
    "# Answer =14"
   ]
  },
  {
   "cell_type": "code",
   "execution_count": null,
   "id": "b4b9d77e",
   "metadata": {},
   "outputs": [],
   "source": [
    "# Question : 2\n",
    "# Answer =B"
   ]
  },
  {
   "cell_type": "code",
   "execution_count": null,
   "id": "6e277004",
   "metadata": {},
   "outputs": [],
   "source": [
    "#Question 3 :-\n",
    "# Answer = B"
   ]
  },
  {
   "cell_type": "code",
   "execution_count": null,
   "id": "6ae4fa87",
   "metadata": {},
   "outputs": [],
   "source": [
    "#Question: 4 :\n",
    "# Answer = B"
   ]
  },
  {
   "cell_type": "code",
   "execution_count": null,
   "id": "e164778a",
   "metadata": {},
   "outputs": [],
   "source": [
    "#Question : 5\n",
    "# Answer= B"
   ]
  },
  {
   "cell_type": "code",
   "execution_count": null,
   "id": "10c54d81",
   "metadata": {},
   "outputs": [],
   "source": [
    "#Question : 6\n",
    "# Answer = C"
   ]
  },
  {
   "cell_type": "code",
   "execution_count": null,
   "id": "230cb1f3",
   "metadata": {},
   "outputs": [],
   "source": [
    "#Question : 7\n",
    "# Answer = B,C"
   ]
  },
  {
   "cell_type": "code",
   "execution_count": 11,
   "id": "e9658d92",
   "metadata": {},
   "outputs": [],
   "source": [
    "#Question : 8  \n",
    "# Answer = A"
   ]
  },
  {
   "cell_type": "code",
   "execution_count": 12,
   "id": "074dcb4e",
   "metadata": {},
   "outputs": [],
   "source": [
    "#Question : 9\n",
    "# Answer = B"
   ]
  },
  {
   "cell_type": "code",
   "execution_count": 13,
   "id": "c3038ec0",
   "metadata": {},
   "outputs": [],
   "source": [
    "#Question : 10\n",
    "# Answer = C"
   ]
  },
  {
   "cell_type": "code",
   "execution_count": 14,
   "id": "f1998e41",
   "metadata": {},
   "outputs": [],
   "source": [
    "#Question : 11\n",
    "# Answer = A"
   ]
  },
  {
   "cell_type": "code",
   "execution_count": null,
   "id": "dcaeae4b",
   "metadata": {},
   "outputs": [],
   "source": [
    "#Question : 12\n",
    "# Answer = A"
   ]
  },
  {
   "cell_type": "code",
   "execution_count": null,
   "id": "0977d238",
   "metadata": {},
   "outputs": [],
   "source": [
    "#Question : 13\n",
    "# Answer = B"
   ]
  },
  {
   "cell_type": "code",
   "execution_count": null,
   "id": "9db5f1d3",
   "metadata": {},
   "outputs": [],
   "source": [
    "#Question : 14\n",
    "# Answer = C"
   ]
  },
  {
   "cell_type": "code",
   "execution_count": null,
   "id": "55945fde",
   "metadata": {},
   "outputs": [],
   "source": [
    "#Question : 15\n",
    "i=1;\n",
    "while i<=100:\n",
    "    print(i,end=\" \")\n",
    "    i+=1 "
   ]
  },
  {
   "cell_type": "code",
   "execution_count": null,
   "id": "527c31da",
   "metadata": {},
   "outputs": [],
   "source": [
    "#Question : 16\n",
    "n=50\n",
    "for i in range(0,n+1,2):\n",
    "    print(i,end=\" \")\n"
   ]
  },
  {
   "cell_type": "code",
   "execution_count": null,
   "id": "1a166a40",
   "metadata": {},
   "outputs": [],
   "source": [
    "#Question : 17\n",
    "number=int(input(\"Enter a number: \"))\n",
    "times=int(input(\"Enter how many times to print: \"))\n",
    "for i in range(1,times+1):\n",
    "    print(number*i)"
   ]
  },
  {
   "cell_type": "code",
   "execution_count": null,
   "id": "c530dc20",
   "metadata": {},
   "outputs": [],
   "source": [
    "#Question : 18\n",
    "number=int(input(\"Enter a number: \"))\n",
    "sum=0\n",
    "for i in range(1,number+1):\n",
    "    sum+=i\n",
    "print(\"Sum of first\",number,\"numbers is:\",sum)"
   ]
  },
  {
   "cell_type": "code",
   "execution_count": null,
   "id": "8fe2076f",
   "metadata": {},
   "outputs": [
    {
     "name": "stdout",
     "output_type": "stream",
     "text": [
      "6\n"
     ]
    }
   ],
   "source": [
    "#Question : 19\n",
    "count = 0\n",
    "for num in range(1, 101):\n",
    "    if num % 15 == 0:\n",
    "        count += 1\n",
    "print(count)"
   ]
  },
  {
   "cell_type": "code",
   "execution_count": null,
   "id": "2a8ae5ed",
   "metadata": {},
   "outputs": [],
   "source": [
    "#Question : 20\n",
    "#Answer=B"
   ]
  },
  {
   "cell_type": "code",
   "execution_count": null,
   "id": "498cb081",
   "metadata": {},
   "outputs": [],
   "source": [
    "#Question : 21\n",
    "#Answer=A"
   ]
  },
  {
   "cell_type": "code",
   "execution_count": null,
   "id": "cf9d70d4",
   "metadata": {},
   "outputs": [],
   "source": [
    "#Question : 22\n",
    "#Answer=B"
   ]
  },
  {
   "cell_type": "code",
   "execution_count": null,
   "id": "cb31e95a",
   "metadata": {},
   "outputs": [],
   "source": [
    "#Question : 23\n",
    "#Answer=B"
   ]
  },
  {
   "cell_type": "code",
   "execution_count": null,
   "id": "c06ab60a",
   "metadata": {},
   "outputs": [],
   "source": [
    "#Question : 24\n",
    "#Answer=B"
   ]
  },
  {
   "cell_type": "code",
   "execution_count": null,
   "id": "4e7376e6",
   "metadata": {},
   "outputs": [],
   "source": [
    "#Question : 25\n",
    "#Answer=A   "
   ]
  },
  {
   "cell_type": "code",
   "execution_count": null,
   "id": "693b685d",
   "metadata": {},
   "outputs": [],
   "source": [
    "#Question : 26\n",
    "#Answer=B"
   ]
  },
  {
   "cell_type": "code",
   "execution_count": null,
   "id": "ed6ad171",
   "metadata": {},
   "outputs": [],
   "source": [
    "#Question : 27\n",
    "#Answer=A"
   ]
  },
  {
   "cell_type": "code",
   "execution_count": null,
   "id": "56f70fbc",
   "metadata": {},
   "outputs": [],
   "source": [
    "#Question : 28\n",
    "#Answer=B"
   ]
  },
  {
   "cell_type": "code",
   "execution_count": null,
   "id": "31ed4d5c",
   "metadata": {},
   "outputs": [],
   "source": [
    "#Question : 29\n",
    "#Answer=c"
   ]
  },
  {
   "cell_type": "code",
   "execution_count": null,
   "id": "fc11f817",
   "metadata": {},
   "outputs": [],
   "source": [
    "#Question : 30\n",
    "#Answer=B"
   ]
  },
  {
   "cell_type": "code",
   "execution_count": null,
   "id": "5d65b37b",
   "metadata": {},
   "outputs": [],
   "source": [
    "#Question : 31\n",
    "#Answer=B"
   ]
  },
  {
   "cell_type": "code",
   "execution_count": null,
   "id": "af61bbed",
   "metadata": {},
   "outputs": [],
   "source": [
    "#Question : 32\n",
    "#Answer=c"
   ]
  },
  {
   "cell_type": "code",
   "execution_count": null,
   "id": "80f5b42b",
   "metadata": {},
   "outputs": [],
   "source": [
    "#Question : 33  \n",
    "#Answer=B"
   ]
  }
 ],
 "metadata": {
  "kernelspec": {
   "display_name": "Python 3",
   "language": "python",
   "name": "python3"
  },
  "language_info": {
   "codemirror_mode": {
    "name": "ipython",
    "version": 3
   },
   "file_extension": ".py",
   "mimetype": "text/x-python",
   "name": "python",
   "nbconvert_exporter": "python",
   "pygments_lexer": "ipython3",
   "version": "3.13.2"
  }
 },
 "nbformat": 4,
 "nbformat_minor": 5
}
