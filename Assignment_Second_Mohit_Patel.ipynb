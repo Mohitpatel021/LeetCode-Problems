{
 "cells": [
  {
   "cell_type": "code",
   "execution_count": null,
   "id": "134fc478",
   "metadata": {},
   "outputs": [],
   "source": [
    "#Question Number :121\n",
    "#https://leetcode.com/problems/best-time-to-buy-and-sell-stock/\n",
    "\n",
    "class Solution:\n",
    "    def maxProfit(self, prices: List[int]) -> int:\n",
    "        maxi=0\n",
    "        mini=prices[0]\n",
    "        for price in prices:\n",
    "            maxi=max(maxi,price-mini)\n",
    "            mini=min(mini,price)\n",
    "        return maxi\n",
    "       "
   ]
  },
  {
   "cell_type": "code",
   "execution_count": null,
   "id": "9087b559",
   "metadata": {},
   "outputs": [],
   "source": [
    "# LeetCode 121. Best Time to Buy and Sell Stock II\n",
    "#Link : https://leetcode.com/problems/best-time-to-buy-and-sell-stock-ii/\n",
    "class Solution:\n",
    "    def maxProfit(self, prices: List[int]) -> int:\n",
    "        maxi=0\n",
    "        for i in range(1,len(prices)):\n",
    "            if prices[i]>prices[i-1]:\n",
    "                maxi+=prices[i]-prices[i-1]\n",
    "        return maxi\n",
    "\n",
    "        "
   ]
  },
  {
   "cell_type": "code",
   "execution_count": null,
   "id": "2c4c0849",
   "metadata": {},
   "outputs": [],
   "source": [
    "#Question :58\n",
    "#Link : https://leetcode.com/problems/length-of-last-word/\n",
    "\n",
    "class Solution:\n",
    "    def lengthOfLastWord(self, s: str) -> int:\n",
    "        return len(s.strip().split()[-1])"
   ]
  },
  {
   "cell_type": "code",
   "execution_count": null,
   "id": "a9d45167",
   "metadata": {},
   "outputs": [],
   "source": [
    "#Question: 75\n",
    "#Link: https://leetcode.com/problems/sort-colors/\n",
    "\n",
    "class Solution:\n",
    "    def sortColors(self, nums: List[int]) -> None:\n",
    "       start=0\n",
    "       end=len(nums)-1\n",
    "       mid=0\n",
    "       while mid<=end:\n",
    "        if nums[mid]==0:\n",
    "            nums[mid],nums[start]=nums[start],nums[mid]\n",
    "            mid+=1\n",
    "            start+=1\n",
    "        elif nums[mid]==1:\n",
    "            mid+=1\n",
    "        elif nums[mid]==2:\n",
    "            nums[mid],nums[end]=nums[end],nums[mid]\n",
    "            end-=1\n",
    "        "
   ]
  },
  {
   "cell_type": "code",
   "execution_count": null,
   "id": "f879a403",
   "metadata": {},
   "outputs": [],
   "source": [
    "#Question:125\n",
    "#Link: https://leetcode.com/problems/valid-palindrome/\n",
    "class Solution:\n",
    "    def isPalindrome(self, s: str) -> bool:\n",
    "        cleaned = ''.join(char.lower() for char in s if char.isalnum())\n",
    "        \n",
    "        start = 0\n",
    "        end = len(cleaned) - 1\n",
    "        \n",
    "        while start < end:\n",
    "            if cleaned[start] == cleaned[end]:\n",
    "                start += 1\n",
    "                end -= 1\n",
    "            else:\n",
    "                return False\n",
    "        \n",
    "        return True \n"
   ]
  }
 ],
 "metadata": {
  "language_info": {
   "name": "python"
  }
 },
 "nbformat": 4,
 "nbformat_minor": 5
}
